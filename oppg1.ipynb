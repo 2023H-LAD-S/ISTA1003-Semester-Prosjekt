{
 "cells": [
  {
   "cell_type": "markdown",
   "id": "50f11f08-7dba-453b-b296-4c34857d7f3b",
   "metadata": {},
   "source": [
    "### Relevante pakker"
   ]
  },
  {
   "cell_type": "code",
   "execution_count": 1,
   "id": "dcb40345-1333-4d8e-98f2-141742eda0bc",
   "metadata": {},
   "outputs": [],
   "source": [
    "import numpy as np\n",
    "import pandas as pd\n",
    "import matplotlib.pyplot as plt\n",
    "import seaborn as sns\n",
    "\n",
    "from scipy import stats\n",
    "import statsmodels.formula.api as smf\n",
    "import statsmodels.api as sm"
   ]
  },
  {
   "cell_type": "markdown",
   "id": "24502d85-0c4f-42ef-ae09-3d55ce6de792",
   "metadata": {},
   "source": [
    "Merk: ChatGPT har blitt brukt for å få hjelp til å skrive deler av denne koden."
   ]
  },
  {
   "cell_type": "markdown",
   "id": "a3b4223c-cd82-47fa-9929-410c9782bca1",
   "metadata": {
    "tags": []
   },
   "source": [
    "### Rense dataene"
   ]
  },
  {
   "cell_type": "code",
   "execution_count": 2,
   "id": "e2f2d7aa-9ea4-4a61-a367-99de1e9bab75",
   "metadata": {},
   "outputs": [
    {
     "ename": "FileNotFoundError",
     "evalue": "[Errno 2] No such file or directory: 'Data\\\\lego.population.csv'",
     "output_type": "error",
     "traceback": [
      "\u001b[0;31m---------------------------------------------------------------------------\u001b[0m",
      "\u001b[0;31mFileNotFoundError\u001b[0m                         Traceback (most recent call last)",
      "\u001b[1;32m/Users/anderslund/Skule/2. år høgskule/1. haustsemester/ISTA1003-Semester-Prosjekt/oppg1.ipynb Cell 5\u001b[0m line \u001b[0;36m1\n\u001b[0;32m----> <a href='vscode-notebook-cell:/Users/anderslund/Skule/2.%20%C3%A5r%20h%C3%B8gskule/1.%20haustsemester/ISTA1003-Semester-Prosjekt/oppg1.ipynb#W4sZmlsZQ%3D%3D?line=0'>1</a>\u001b[0m df \u001b[39m=\u001b[39m pd\u001b[39m.\u001b[39;49mread_csv(\u001b[39m\"\u001b[39;49m\u001b[39mData\u001b[39;49m\u001b[39m\\\u001b[39;49m\u001b[39mlego.population.csv\u001b[39;49m\u001b[39m\"\u001b[39;49m, sep \u001b[39m=\u001b[39;49m \u001b[39m\"\u001b[39;49m\u001b[39m,\u001b[39;49m\u001b[39m\"\u001b[39;49m, encoding \u001b[39m=\u001b[39;49m \u001b[39m\"\u001b[39;49m\u001b[39mlatin1\u001b[39;49m\u001b[39m\"\u001b[39;49m)\n\u001b[1;32m      <a href='vscode-notebook-cell:/Users/anderslund/Skule/2.%20%C3%A5r%20h%C3%B8gskule/1.%20haustsemester/ISTA1003-Semester-Prosjekt/oppg1.ipynb#W4sZmlsZQ%3D%3D?line=1'>2</a>\u001b[0m df\n",
      "File \u001b[0;32m~/opt/anaconda3/lib/python3.9/site-packages/pandas/io/parsers/readers.py:912\u001b[0m, in \u001b[0;36mread_csv\u001b[0;34m(filepath_or_buffer, sep, delimiter, header, names, index_col, usecols, dtype, engine, converters, true_values, false_values, skipinitialspace, skiprows, skipfooter, nrows, na_values, keep_default_na, na_filter, verbose, skip_blank_lines, parse_dates, infer_datetime_format, keep_date_col, date_parser, date_format, dayfirst, cache_dates, iterator, chunksize, compression, thousands, decimal, lineterminator, quotechar, quoting, doublequote, escapechar, comment, encoding, encoding_errors, dialect, on_bad_lines, delim_whitespace, low_memory, memory_map, float_precision, storage_options, dtype_backend)\u001b[0m\n\u001b[1;32m    899\u001b[0m kwds_defaults \u001b[39m=\u001b[39m _refine_defaults_read(\n\u001b[1;32m    900\u001b[0m     dialect,\n\u001b[1;32m    901\u001b[0m     delimiter,\n\u001b[0;32m   (...)\u001b[0m\n\u001b[1;32m    908\u001b[0m     dtype_backend\u001b[39m=\u001b[39mdtype_backend,\n\u001b[1;32m    909\u001b[0m )\n\u001b[1;32m    910\u001b[0m kwds\u001b[39m.\u001b[39mupdate(kwds_defaults)\n\u001b[0;32m--> 912\u001b[0m \u001b[39mreturn\u001b[39;00m _read(filepath_or_buffer, kwds)\n",
      "File \u001b[0;32m~/opt/anaconda3/lib/python3.9/site-packages/pandas/io/parsers/readers.py:577\u001b[0m, in \u001b[0;36m_read\u001b[0;34m(filepath_or_buffer, kwds)\u001b[0m\n\u001b[1;32m    574\u001b[0m _validate_names(kwds\u001b[39m.\u001b[39mget(\u001b[39m\"\u001b[39m\u001b[39mnames\u001b[39m\u001b[39m\"\u001b[39m, \u001b[39mNone\u001b[39;00m))\n\u001b[1;32m    576\u001b[0m \u001b[39m# Create the parser.\u001b[39;00m\n\u001b[0;32m--> 577\u001b[0m parser \u001b[39m=\u001b[39m TextFileReader(filepath_or_buffer, \u001b[39m*\u001b[39;49m\u001b[39m*\u001b[39;49mkwds)\n\u001b[1;32m    579\u001b[0m \u001b[39mif\u001b[39;00m chunksize \u001b[39mor\u001b[39;00m iterator:\n\u001b[1;32m    580\u001b[0m     \u001b[39mreturn\u001b[39;00m parser\n",
      "File \u001b[0;32m~/opt/anaconda3/lib/python3.9/site-packages/pandas/io/parsers/readers.py:1407\u001b[0m, in \u001b[0;36mTextFileReader.__init__\u001b[0;34m(self, f, engine, **kwds)\u001b[0m\n\u001b[1;32m   1404\u001b[0m     \u001b[39mself\u001b[39m\u001b[39m.\u001b[39moptions[\u001b[39m\"\u001b[39m\u001b[39mhas_index_names\u001b[39m\u001b[39m\"\u001b[39m] \u001b[39m=\u001b[39m kwds[\u001b[39m\"\u001b[39m\u001b[39mhas_index_names\u001b[39m\u001b[39m\"\u001b[39m]\n\u001b[1;32m   1406\u001b[0m \u001b[39mself\u001b[39m\u001b[39m.\u001b[39mhandles: IOHandles \u001b[39m|\u001b[39m \u001b[39mNone\u001b[39;00m \u001b[39m=\u001b[39m \u001b[39mNone\u001b[39;00m\n\u001b[0;32m-> 1407\u001b[0m \u001b[39mself\u001b[39m\u001b[39m.\u001b[39m_engine \u001b[39m=\u001b[39m \u001b[39mself\u001b[39;49m\u001b[39m.\u001b[39;49m_make_engine(f, \u001b[39mself\u001b[39;49m\u001b[39m.\u001b[39;49mengine)\n",
      "File \u001b[0;32m~/opt/anaconda3/lib/python3.9/site-packages/pandas/io/parsers/readers.py:1661\u001b[0m, in \u001b[0;36mTextFileReader._make_engine\u001b[0;34m(self, f, engine)\u001b[0m\n\u001b[1;32m   1659\u001b[0m     \u001b[39mif\u001b[39;00m \u001b[39m\"\u001b[39m\u001b[39mb\u001b[39m\u001b[39m\"\u001b[39m \u001b[39mnot\u001b[39;00m \u001b[39min\u001b[39;00m mode:\n\u001b[1;32m   1660\u001b[0m         mode \u001b[39m+\u001b[39m\u001b[39m=\u001b[39m \u001b[39m\"\u001b[39m\u001b[39mb\u001b[39m\u001b[39m\"\u001b[39m\n\u001b[0;32m-> 1661\u001b[0m \u001b[39mself\u001b[39m\u001b[39m.\u001b[39mhandles \u001b[39m=\u001b[39m get_handle(\n\u001b[1;32m   1662\u001b[0m     f,\n\u001b[1;32m   1663\u001b[0m     mode,\n\u001b[1;32m   1664\u001b[0m     encoding\u001b[39m=\u001b[39;49m\u001b[39mself\u001b[39;49m\u001b[39m.\u001b[39;49moptions\u001b[39m.\u001b[39;49mget(\u001b[39m\"\u001b[39;49m\u001b[39mencoding\u001b[39;49m\u001b[39m\"\u001b[39;49m, \u001b[39mNone\u001b[39;49;00m),\n\u001b[1;32m   1665\u001b[0m     compression\u001b[39m=\u001b[39;49m\u001b[39mself\u001b[39;49m\u001b[39m.\u001b[39;49moptions\u001b[39m.\u001b[39;49mget(\u001b[39m\"\u001b[39;49m\u001b[39mcompression\u001b[39;49m\u001b[39m\"\u001b[39;49m, \u001b[39mNone\u001b[39;49;00m),\n\u001b[1;32m   1666\u001b[0m     memory_map\u001b[39m=\u001b[39;49m\u001b[39mself\u001b[39;49m\u001b[39m.\u001b[39;49moptions\u001b[39m.\u001b[39;49mget(\u001b[39m\"\u001b[39;49m\u001b[39mmemory_map\u001b[39;49m\u001b[39m\"\u001b[39;49m, \u001b[39mFalse\u001b[39;49;00m),\n\u001b[1;32m   1667\u001b[0m     is_text\u001b[39m=\u001b[39;49mis_text,\n\u001b[1;32m   1668\u001b[0m     errors\u001b[39m=\u001b[39;49m\u001b[39mself\u001b[39;49m\u001b[39m.\u001b[39;49moptions\u001b[39m.\u001b[39;49mget(\u001b[39m\"\u001b[39;49m\u001b[39mencoding_errors\u001b[39;49m\u001b[39m\"\u001b[39;49m, \u001b[39m\"\u001b[39;49m\u001b[39mstrict\u001b[39;49m\u001b[39m\"\u001b[39;49m),\n\u001b[1;32m   1669\u001b[0m     storage_options\u001b[39m=\u001b[39;49m\u001b[39mself\u001b[39;49m\u001b[39m.\u001b[39;49moptions\u001b[39m.\u001b[39;49mget(\u001b[39m\"\u001b[39;49m\u001b[39mstorage_options\u001b[39;49m\u001b[39m\"\u001b[39;49m, \u001b[39mNone\u001b[39;49;00m),\n\u001b[1;32m   1670\u001b[0m )\n\u001b[1;32m   1671\u001b[0m \u001b[39massert\u001b[39;00m \u001b[39mself\u001b[39m\u001b[39m.\u001b[39mhandles \u001b[39mis\u001b[39;00m \u001b[39mnot\u001b[39;00m \u001b[39mNone\u001b[39;00m\n\u001b[1;32m   1672\u001b[0m f \u001b[39m=\u001b[39m \u001b[39mself\u001b[39m\u001b[39m.\u001b[39mhandles\u001b[39m.\u001b[39mhandle\n",
      "File \u001b[0;32m~/opt/anaconda3/lib/python3.9/site-packages/pandas/io/common.py:859\u001b[0m, in \u001b[0;36mget_handle\u001b[0;34m(path_or_buf, mode, encoding, compression, memory_map, is_text, errors, storage_options)\u001b[0m\n\u001b[1;32m    854\u001b[0m \u001b[39melif\u001b[39;00m \u001b[39misinstance\u001b[39m(handle, \u001b[39mstr\u001b[39m):\n\u001b[1;32m    855\u001b[0m     \u001b[39m# Check whether the filename is to be opened in binary mode.\u001b[39;00m\n\u001b[1;32m    856\u001b[0m     \u001b[39m# Binary mode does not support 'encoding' and 'newline'.\u001b[39;00m\n\u001b[1;32m    857\u001b[0m     \u001b[39mif\u001b[39;00m ioargs\u001b[39m.\u001b[39mencoding \u001b[39mand\u001b[39;00m \u001b[39m\"\u001b[39m\u001b[39mb\u001b[39m\u001b[39m\"\u001b[39m \u001b[39mnot\u001b[39;00m \u001b[39min\u001b[39;00m ioargs\u001b[39m.\u001b[39mmode:\n\u001b[1;32m    858\u001b[0m         \u001b[39m# Encoding\u001b[39;00m\n\u001b[0;32m--> 859\u001b[0m         handle \u001b[39m=\u001b[39m \u001b[39mopen\u001b[39;49m(\n\u001b[1;32m    860\u001b[0m             handle,\n\u001b[1;32m    861\u001b[0m             ioargs\u001b[39m.\u001b[39;49mmode,\n\u001b[1;32m    862\u001b[0m             encoding\u001b[39m=\u001b[39;49mioargs\u001b[39m.\u001b[39;49mencoding,\n\u001b[1;32m    863\u001b[0m             errors\u001b[39m=\u001b[39;49merrors,\n\u001b[1;32m    864\u001b[0m             newline\u001b[39m=\u001b[39;49m\u001b[39m\"\u001b[39;49m\u001b[39m\"\u001b[39;49m,\n\u001b[1;32m    865\u001b[0m         )\n\u001b[1;32m    866\u001b[0m     \u001b[39melse\u001b[39;00m:\n\u001b[1;32m    867\u001b[0m         \u001b[39m# Binary mode\u001b[39;00m\n\u001b[1;32m    868\u001b[0m         handle \u001b[39m=\u001b[39m \u001b[39mopen\u001b[39m(handle, ioargs\u001b[39m.\u001b[39mmode)\n",
      "\u001b[0;31mFileNotFoundError\u001b[0m: [Errno 2] No such file or directory: 'Data\\\\lego.population.csv'"
     ]
    }
   ],
   "source": [
    "df = pd.read_csv(\"Data/lego.population.csv\", sep = \",\", encoding = \"latin1\")\n",
    "df"
   ]
  },
  {
   "cell_type": "code",
   "execution_count": null,
   "id": "dfb7f59b-5291-46f5-b6e0-3bd48146358f",
   "metadata": {
    "tags": []
   },
   "outputs": [],
   "source": [
    "# fjerner forklaringsvariabler vi ikke trenger\n",
    "df2 = df[['Set_Name', 'Theme', 'Pieces', 'Price', 'Pages', 'Minifigures', 'Unique_Pieces']]\n",
    "\n",
    "# fjerner observasjoner med manglende datapunkter\n",
    "df2 = df2.dropna()\n",
    "\n",
    "# gjør themes om til string og fjern alle tegn vi ikke vil ha med\n",
    "df2['Theme'] = df2['Theme'].astype(str)\n",
    "df2['Theme'] = df2['Theme'].str.replace(r'[^a-zA-Z0-9\\s-]', '', regex = True)\n",
    "\n",
    "# fjerner dollartegn og trademark-tegn fra datasettet\n",
    "df2['Price'] = df2['Price'].str.replace('\\$', '', regex = True)\n",
    "\n",
    "# og gjør så prisen om til float\n",
    "df2['Price'] = df2['Price'].astype(float)\n",
    "\n",
    "df2"
   ]
  },
  {
   "cell_type": "markdown",
   "id": "4a78dbed-8cd3-4d2c-9c1a-81126d49c95c",
   "metadata": {},
   "source": [
    "### Mer eller mindre relevante kodesnutter"
   ]
  },
  {
   "cell_type": "code",
   "execution_count": null,
   "id": "b7277ac7-b3e9-41f8-91d0-3398955ed196",
   "metadata": {},
   "outputs": [],
   "source": [
    "print(df2.mean(numeric_only = True))"
   ]
  },
  {
   "cell_type": "code",
   "execution_count": null,
   "id": "fdbb41c9-8461-4c74-ad4c-f229be31b3d9",
   "metadata": {},
   "outputs": [],
   "source": [
    "print(df2['Theme'].value_counts())"
   ]
  },
  {
   "cell_type": "code",
   "execution_count": null,
   "id": "305f61df-482b-4632-aedc-c1155c13c71e",
   "metadata": {},
   "outputs": [],
   "source": [
    "plt.hist(df2['Price'], bins=20, color='skyblue', edgecolor='black')\n",
    "plt.xlabel('Pris i dollar [$]')\n",
    "plt.ylabel('')\n",
    "plt.gca().set_aspect(1)\n",
    "plt.show()"
   ]
  },
  {
   "cell_type": "code",
   "execution_count": null,
   "id": "af31fc2d-1787-49cb-a6ca-73ef99d7f4d8",
   "metadata": {},
   "outputs": [],
   "source": [
    "plt.scatter(df2['Pieces'], df2['Price'])\n",
    "plt.xlabel('Antall brikker')\n",
    "plt.ylabel('Pris i dollar [$]')\n",
    "plt.gca().set_aspect(5)\n",
    "plt.show()"
   ]
  },
  {
   "cell_type": "code",
   "execution_count": null,
   "id": "22b5c0f2-00b0-40d9-9829-57065427c8ce",
   "metadata": {},
   "outputs": [],
   "source": [
    "# hva er det dyreste settet i datasettet mon tro?\n",
    "print(df2.loc[df2['Price'].idxmax()])"
   ]
  },
  {
   "cell_type": "code",
   "execution_count": null,
   "id": "d40850cf-b058-46df-b324-d69c6073f9bd",
   "metadata": {},
   "outputs": [],
   "source": [
    "# og hvilket har flest brikker?\n",
    "print(df2.loc[df2['Pieces'].idxmax()])"
   ]
  },
  {
   "cell_type": "code",
   "execution_count": null,
   "id": "279981a0-b865-44ba-b942-ae78f05ec966",
   "metadata": {},
   "outputs": [],
   "source": [
    "# hvilke tema har de billigste settene?\n",
    "df2.groupby('Theme')['Price'].mean().sort_values(ascending=True)[:3]"
   ]
  },
  {
   "cell_type": "code",
   "execution_count": null,
   "id": "3a1895ad-c879-49f1-8acc-1a9494005a18",
   "metadata": {},
   "outputs": [],
   "source": [
    "# hvilke tema har flest brikker?\n",
    "df2.groupby('Theme')['Pieces'].mean().sort_values(ascending=False)[:3]"
   ]
  },
  {
   "cell_type": "code",
   "execution_count": null,
   "id": "2745c858-605e-4381-a91d-cd60a08ef14f",
   "metadata": {},
   "outputs": [],
   "source": [
    "sns.pairplot(df2, vars = ['Price', 'Pieces', 'Pages', 'Minifigures', 'Unique_Pieces'],\n",
    "             hue = 'Theme', \n",
    "             diag_kind = 'kde',\n",
    "             plot_kws = dict(alpha = 0.4))\n",
    "plt.show()"
   ]
  },
  {
   "cell_type": "code",
   "execution_count": null,
   "id": "25508f8d-3af0-422d-bd9c-1bde5ab698db",
   "metadata": {},
   "outputs": [],
   "source": [
    "# enkel lineær regresjon\n",
    "formel = 'Price ~ Pieces'\n",
    "\n",
    "modell = smf.ols(formel, data = df2)\n",
    "resultat = modell.fit()\n",
    "\n",
    "resultat.summary()"
   ]
  },
  {
   "cell_type": "code",
   "execution_count": null,
   "id": "1070f251-dbcc-4eef-bf0d-b3ba2485a548",
   "metadata": {},
   "outputs": [],
   "source": [
    "slope = resultat.params['Pieces']\n",
    "intercept = resultat.params['Intercept']\n",
    "\n",
    "regression_x = np.array(df2['Pieces'])\n",
    "\n",
    "regression_y = slope * regression_x + intercept\n",
    "\n",
    "plt.scatter(df2['Pieces'], df2['Price'], label='Data Points')\n",
    "plt.plot(regression_x, regression_y, color='red', label='Regression Line')\n",
    "plt.xlabel('Antall brikker')\n",
    "plt.ylabel('Pris [$]')\n",
    "plt.title('Kryssplott med regresjonslinje (enkel LR)')\n",
    "plt.legend()\n",
    "plt.grid()\n",
    "plt.show()"
   ]
  },
  {
   "cell_type": "code",
   "execution_count": null,
   "id": "70323c17-289b-4322-a086-f22b0b4ac188",
   "metadata": {},
   "outputs": [],
   "source": [
    "figure, axis = plt.subplots(1, 2, figsize = (15, 5))\n",
    "sns.scatterplot(x = resultat.fittedvalues, y = resultat.resid, ax = axis[0])\n",
    "axis[0].set_ylabel(\"Residual\")\n",
    "axis[0].set_xlabel(\"Predikert verdi\")\n",
    "\n",
    "sm.qqplot(resultat.resid, line = '45', fit = True, ax = axis[1])\n",
    "axis[1].set_ylabel(\"Kvantiler i residualene\")\n",
    "axis[1].set_xlabel(\"Kvantiler i normalfordelingen\")\n",
    "plt.show()"
   ]
  },
  {
   "cell_type": "code",
   "execution_count": null,
   "id": "f3b4e53e-487f-48a9-a52a-bad8e40f4358",
   "metadata": {},
   "outputs": [],
   "source": [
    "mythemes = ['Star Wars', 'NINJAGO', 'Harry Potter']\n",
    "subset_df = df2[df2['Theme'].isin(mythemes)]\n",
    "sns.pairplot(subset_df, vars = ['Price', 'Pieces', 'Pages', 'Minifigures', 'Unique_Pieces'],\n",
    "             hue = 'Theme', \n",
    "             diag_kind = 'kde',\n",
    "             plot_kws = dict(alpha = 0.4))\n",
    "plt.show()"
   ]
  },
  {
   "cell_type": "code",
   "execution_count": null,
   "id": "b15426d8-5785-4fe6-9058-8efed012385f",
   "metadata": {},
   "outputs": [],
   "source": [
    "# enkel lineær regresjon, tar ikke hensyn til tema\n",
    "res_sub = smf.ols('Price ~ Pieces' , data = subset_df).fit()"
   ]
  },
  {
   "cell_type": "code",
   "execution_count": null,
   "id": "c716f5a1-2394-437a-875a-aaa0564481ef",
   "metadata": {},
   "outputs": [],
   "source": [
    "# enkel LR for hvert tema hver for seg\n",
    "resultater = []\n",
    "for i, theme in enumerate(mythemes):\n",
    "    modell3 = smf.ols('Price ~ Pieces' , data = subset_df[subset_df['Theme'].isin([theme])])\n",
    "    resultater.append(modell3.fit())"
   ]
  },
  {
   "cell_type": "code",
   "execution_count": null,
   "id": "e243b26f-1e71-497a-bc8f-00ca575187f4",
   "metadata": {},
   "outputs": [],
   "source": [
    "# plott av dataene og regresjonslinjene\n",
    "for i, theme in enumerate(mythemes):\n",
    "    slope = resultater[i].params['Pieces']\n",
    "    intercept = resultater[i].params['Intercept']\n",
    "\n",
    "    regression_x = np.array(subset_df[subset_df['Theme'].isin([theme])]['Pieces'])\n",
    "    regression_y = slope * regression_x + intercept\n",
    "\n",
    "    # Plot scatter plot and regression line\n",
    "    plt.scatter(subset_df[subset_df['Theme'].isin([theme])]['Pieces'], subset_df[subset_df['Theme'].isin([theme])]['Price'], color=plt.cm.tab10(i))\n",
    "    plt.plot(regression_x, regression_y, color=plt.cm.tab10(i), label=theme)\n",
    "    \n",
    "plt.xlabel('Antall brikker')\n",
    "plt.ylabel('Pris')\n",
    "plt.title('Kryssplott med regresjonslinjer')\n",
    "plt.legend()\n",
    "plt.grid()\n",
    "plt.show()"
   ]
  },
  {
   "cell_type": "markdown",
   "id": "b74f53aa-c8f6-4666-8c4b-f345af966d5b",
   "metadata": {
    "tags": []
   },
   "source": [
    "## "
   ]
  },
  {
   "cell_type": "code",
   "execution_count": null,
   "id": "49d534ed-af6a-473b-8e53-aa7970058585",
   "metadata": {},
   "outputs": [],
   "source": [
    "# multippel lineær regresjon\n",
    "modell3_mlr = smf.ols('Price ~ Pieces + Theme' , data = subset_df)\n",
    "modell3_mlr.fit().summary()"
   ]
  },
  {
   "cell_type": "code",
   "execution_count": null,
   "id": "2ef89cc9-011a-4c4c-b2e6-8a062c47ccea",
   "metadata": {},
   "outputs": [],
   "source": [
    "# multippel lineær regresjon med en annen referansekategori\n",
    "modell3_mlr_alt = smf.ols('Price ~ Pieces + C(Theme, Treatment(\"Star Wars\"))' , data = subset_df)\n",
    "modell3_mlr_alt.fit().summary()"
   ]
  },
  {
   "cell_type": "code",
   "execution_count": null,
   "id": "cec66e98-e93b-4970-b6e8-b9d0abf233ea",
   "metadata": {},
   "outputs": [],
   "source": [
    "# plott\n",
    "intercept = [modell3_mlr.fit().params['Theme[T.Star Wars]'], modell3_mlr.fit().params['Theme[T.NINJAGO]'], 0] + modell3_mlr.fit().params['Intercept']\n",
    "slope = modell3_mlr.fit().params['Pieces']\n",
    "\n",
    "for i, theme in enumerate(mythemes):\n",
    "\n",
    "    regression_x = np.array(subset_df[subset_df['Theme'].isin([theme])]['Pieces'])\n",
    "    regression_y = slope * regression_x + intercept[i]\n",
    "\n",
    "    # Plot scatter plot and regression line\n",
    "    plt.scatter(subset_df[subset_df['Theme'].isin([theme])]['Pieces'], subset_df[subset_df['Theme'].isin([theme])]['Price'], color = plt.cm.tab10(i))\n",
    "    plt.plot(regression_x, regression_y, color=plt.cm.tab10(i), label=theme)\n",
    "    \n",
    "# uten tema som forklaringsvariabel:\n",
    "regression_x = np.array(subset_df['Pieces'])\n",
    "regression_y = res_sub.params['Pieces'] * regression_x + res_sub.params['Intercept']\n",
    "plt.plot(regression_x, regression_y, color='black', label = 'No theme')\n",
    "    \n",
    "plt.xlabel('Antall brikker')\n",
    "plt.ylabel('Pris')\n",
    "plt.title('Kryssplott med regresjonslinjer')\n",
    "plt.legend()\n",
    "plt.grid()\n",
    "plt.show()"
   ]
  },
  {
   "cell_type": "code",
   "execution_count": null,
   "id": "81290810-1694-426e-8520-e05bac625763",
   "metadata": {},
   "outputs": [],
   "source": [
    "# med interaksjonsledd mellom antall brikker og tema\n",
    "modell3_mlri = smf.ols('Price ~ Pieces*Theme' , data = subset_df)\n",
    "modell3_mlri.fit().summary()"
   ]
  },
  {
   "cell_type": "code",
   "execution_count": null,
   "id": "ab55e4bb-7630-4db3-a90e-718f57b8eaed",
   "metadata": {},
   "outputs": [],
   "source": [
    "# plott\n",
    "intercept = [modell3_mlri.fit().params['Theme[T.Star Wars]'], modell3_mlri.fit().params['Theme[T.NINJAGO]'], 0] + modell3_mlri.fit().params['Intercept']\n",
    "slope = [modell3_mlri.fit().params['Pieces:Theme[T.Star Wars]'], modell3_mlri.fit().params['Pieces:Theme[T.NINJAGO]'], 0] + modell3_mlri.fit().params['Pieces']\n",
    "\n",
    "for i, theme in enumerate(mythemes):\n",
    "\n",
    "    regression_x = np.array(subset_df[subset_df['Theme'].isin([theme])]['Pieces'])\n",
    "    regression_y = slope[i] * regression_x + intercept[i]\n",
    "\n",
    "    # Plot scatter plot and regression line\n",
    "    plt.scatter(subset_df[subset_df['Theme'].isin([theme])]['Pieces'], subset_df[subset_df['Theme'].isin([theme])]['Price'], color=plt.cm.tab10(i))\n",
    "    plt.plot(regression_x, regression_y, color=plt.cm.tab10(i), label=theme)\n",
    "    \n",
    "# uten tema som forklaringsvariabel:\n",
    "regression_x = np.array(subset_df['Pieces'])\n",
    "regression_y = res_sub.params['Pieces'] * regression_x + res_sub.params['Intercept']\n",
    "plt.plot(regression_x, regression_y, color='black', label='Theme unaccounted for')\n",
    "    \n",
    "plt.xlabel('Antall brikker')\n",
    "plt.ylabel('Pris [$]')\n",
    "plt.title('Kryssplott med regresjonslinjer')\n",
    "plt.legend()\n",
    "plt.grid()\n",
    "plt.show()"
   ]
  },
  {
   "cell_type": "code",
   "execution_count": null,
   "id": "a31d7edd-dc4b-4357-9684-34ad078db2e7",
   "metadata": {},
   "outputs": [],
   "source": [
    "# Kode for å lagre plot som (.png)\n",
    "## fjern 'plt.show()' og erstatt med:\n",
    "# plt.savefig('my_plot.png')"
   ]
  },
  {
   "cell_type": "code",
   "execution_count": null,
   "id": "a4e71738-bb4b-4370-9dfa-12208feef41c",
   "metadata": {},
   "outputs": [],
   "source": [
    "# Steg 5: Evaluere om modellen passer til dataene\n",
    "# Plotte predikert verdi mot residual\n",
    "figure, axis = plt.subplots(1, 2, figsize = (15, 5))\n",
    "sns.scatterplot(x = modell3_mlri.fit().fittedvalues, y = modell3_mlri.fit().resid, ax = axis[0])\n",
    "axis[0].set_ylabel(\"Residual\")\n",
    "axis[0].set_xlabel(\"Predikert verdi\")\n",
    "\n",
    "# Lage kvantil-kvantil-plott for residualene\n",
    "sm.qqplot(modell3_mlri.fit().resid, line = '45', fit = True, ax = axis[1])\n",
    "axis[1].set_ylabel(\"Kvantiler i residualene\")\n",
    "axis[1].set_xlabel(\"Kvantiler i normalfordelingen\")\n",
    "plt.show()"
   ]
  },
  {
   "cell_type": "code",
   "execution_count": null,
   "id": "be8e578c-bad1-4a97-bbcc-ecb7471d8be7",
   "metadata": {},
   "outputs": [],
   "source": [
    "# Gruppere temaer i nye grupper:\n",
    "# (Harry Potter, NINJAGO og Star Wars havner i én gruppe, City og Friends i en annen, og alle andre i en tredje)\n",
    "df2['cat'] = np.where(df2['Theme'].isin(['Harry Potter', 'NINJAGO', 'Star Wars']), 'Cat1', \n",
    "                      np.where(df2['Theme'].isin(['City', 'Friends']), 'Cat2', 'Cat3'))\n",
    "df2.groupby(['cat']).size().reset_index(name = 'Count')"
   ]
  },
  {
   "cell_type": "code",
   "execution_count": null,
   "id": "7aea77d8-754c-49b9-b622-06dd3c65ba87",
   "metadata": {},
   "outputs": [],
   "source": [
    "df2.groupby(['cat', 'Theme']).size().reset_index(name = 'Count')"
   ]
  },
  {
   "cell_type": "code",
   "execution_count": null,
   "id": "bf0fd14b-8020-41f5-8707-77fb1f2cf807",
   "metadata": {},
   "outputs": [],
   "source": []
  }
 ],
 "metadata": {
  "kernelspec": {
   "display_name": "Python 3",
   "language": "python",
   "name": "python3"
  },
  "language_info": {
   "codemirror_mode": {
    "name": "ipython",
    "version": 3
   },
   "file_extension": ".py",
   "mimetype": "text/x-python",
   "name": "python",
   "nbconvert_exporter": "python",
   "pygments_lexer": "ipython3",
   "version": "3.9.18"
  }
 },
 "nbformat": 4,
 "nbformat_minor": 5
}

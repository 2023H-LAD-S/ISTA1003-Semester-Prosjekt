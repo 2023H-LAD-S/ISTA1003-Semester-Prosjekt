{
 "cells": [
  {
   "cell_type": "markdown",
   "id": "50f11f08-7dba-453b-b296-4c34857d7f3b",
   "metadata": {},
   "source": [
    "### Relevante pakker"
   ]
  },
  {
   "cell_type": "code",
   "execution_count": 1,
   "id": "dcb40345-1333-4d8e-98f2-141742eda0bc",
   "metadata": {},
   "outputs": [
    {
     "ename": "ModuleNotFoundError",
     "evalue": "No module named 'statsmodels'",
     "output_type": "error",
     "traceback": [
      "\u001B[0;31m---------------------------------------------------------------------------\u001B[0m",
      "\u001B[0;31mModuleNotFoundError\u001B[0m                       Traceback (most recent call last)",
      "\u001B[0;32m/var/folders/l1/rj1bzgm52s12pf6kznp0r7hm0000gn/T/ipykernel_8790/1595211028.py\u001B[0m in \u001B[0;36m<module>\u001B[0;34m\u001B[0m\n\u001B[1;32m      5\u001B[0m \u001B[0;34m\u001B[0m\u001B[0m\n\u001B[1;32m      6\u001B[0m \u001B[0;32mfrom\u001B[0m \u001B[0mscipy\u001B[0m \u001B[0;32mimport\u001B[0m \u001B[0mstats\u001B[0m\u001B[0;34m\u001B[0m\u001B[0;34m\u001B[0m\u001B[0m\n\u001B[0;32m----> 7\u001B[0;31m \u001B[0;32mimport\u001B[0m \u001B[0mstatsmodels\u001B[0m\u001B[0;34m.\u001B[0m\u001B[0mformula\u001B[0m\u001B[0;34m.\u001B[0m\u001B[0mapi\u001B[0m \u001B[0;32mas\u001B[0m \u001B[0msmf\u001B[0m\u001B[0;34m\u001B[0m\u001B[0;34m\u001B[0m\u001B[0m\n\u001B[0m\u001B[1;32m      8\u001B[0m \u001B[0;32mimport\u001B[0m \u001B[0mstatsmodels\u001B[0m\u001B[0;34m.\u001B[0m\u001B[0mapi\u001B[0m \u001B[0;32mas\u001B[0m \u001B[0msm\u001B[0m\u001B[0;34m\u001B[0m\u001B[0;34m\u001B[0m\u001B[0m\n",
      "\u001B[0;31mModuleNotFoundError\u001B[0m: No module named 'statsmodels'"
     ]
    }
   ],
   "source": [
    "import numpy as np\n",
    "import pandas as pd\n",
    "import matplotlib.pyplot as plt\n",
    "import seaborn as sns\n",
    "\n",
    "from scipy import stats\n",
    "import statsmodels.formula.api as smf\n",
    "import statsmodels.api as sm"
   ]
  },
  {
   "cell_type": "markdown",
   "id": "24502d85-0c4f-42ef-ae09-3d55ce6de792",
   "metadata": {},
   "source": [
    "Merk: ChatGPT har blitt brukt for å få hjelp til å skrive deler av denne koden."
   ]
  },
  {
   "cell_type": "markdown",
   "id": "a3b4223c-cd82-47fa-9929-410c9782bca1",
   "metadata": {
    "tags": []
   },
   "source": [
    "### Rense dataene"
   ]
  },
  {
   "cell_type": "code",
   "execution_count": null,
   "id": "e2f2d7aa-9ea4-4a61-a367-99de1e9bab75",
   "metadata": {},
   "outputs": [],
   "source": [
    "df = pd.read_csv(\"Data/lego.population.csv\", sep = \",\", encoding = \"latin1\")\n",
    "df"
   ]
  },
  {
   "cell_type": "code",
   "execution_count": null,
   "id": "dfb7f59b-5291-46f5-b6e0-3bd48146358f",
   "metadata": {
    "tags": []
   },
   "outputs": [],
   "source": [
    "# fjerner forklaringsvariabler vi ikke trenger\n",
    "df2 = df[['Set_Name', 'Theme', 'Pieces', 'Price', 'Pages', 'Minifigures', 'Unique_Pieces', 'Ages']]\n",
    "\n",
    "# fjerner observasjoner med manglende datapunkter\n",
    "df2 = df2.dropna()\n",
    "\n",
    "# gjør themes om til string og fjern alle tegn vi ikke vil ha med\n",
    "df2['Theme'] = df2['Theme'].astype(str)\n",
    "df2['Theme'] = df2['Theme'].str.replace(r'[^a-zA-Z0-9\\s-]', '', regex = True)\n",
    "\n",
    "# fjerner dollartegn og trademark-tegn fra datasettet\n",
    "df2['Price'] = df2['Price'].str.replace('\\$', '', regex = True)\n",
    "\n",
    "# og gjør så prisen om til float\n",
    "df2['Price'] = df2['Price'].astype(float)\n",
    "\n",
    "df2"
   ]
  },
  {
   "cell_type": "code",
   "execution_count": null,
   "id": "71d6499d",
   "metadata": {},
   "outputs": [],
   "source": [
    "def categorize_age_from_theme(theme):\n",
    "    if theme in ['DUPLO', 'Classic', 'Juniors']:\n",
    "        return 'Småbarn'\n",
    "    elif theme in ['Friends', 'City', 'Unikitty', 'NINJAGO', 'Minecraft', 'Batman', 'THE LEGO MOVIE 2', 'Speed Champions',\n",
    "                   'Harry Potter', 'Hidden Side', 'LEGO Frozen 2', 'Trolls World Tour', 'Minions', 'Powerpuff Girls',\n",
    "                   'Jurassic World', 'Overwatch', 'Spider-Man', 'Creator 3-in-1', 'Monkie Kid', 'Powered UP']:\n",
    "        return 'Skolebarn'\n",
    "    elif theme in ['Star Wars', 'Marvel', 'DC', 'Ideas', 'Creator Expert', 'Stranger Things']:\n",
    "        return 'Eldre'\n",
    "    elif theme in ['Disney', 'Minifigures']:\n",
    "        return 'Uvisst'\n",
    "    else:\n",
    "        print(\"Unknown age group: \" + theme)\n",
    "        return 'Unknown'  # For aldersgrupper som ikke passer inn i de definerte kategoriene\n",
    "    \n",
    "def categorize_age_group(age_group):\n",
    "    if age_group in ['Ages_1½+', 'Ages_2+', 'Ages_2-5']:\n",
    "        return 'Småbarn'\n",
    "    elif age_group in ['Ages_4+', 'Ages_5+', 'Ages_6+', 'Ages_4-7', 'Ages_5-10', 'Ages_6-10', 'Ages_5-99', 'Ages_7+', 'Ages_8+', 'Ages_7-12', 'Ages_8-12', 'Ages_7-14', 'Ages_8-14', 'Ages_5-12', 'Ages_6-12', 'Ages_6-14']:\n",
    "        return 'Skolebarn'\n",
    "    elif age_group in ['Ages_9+', 'Ages_10+', 'Ages_12+', 'Ages_9-14']:\n",
    "        return 'Eldre_skolebarn'\n",
    "    elif age_group in ['Ages_14+', 'Ages_16+', 'Ages_18+']:\n",
    "        return 'Eldre'\n",
    "    else:\n",
    "        print(\"Unknown age group: \" + age_group)\n",
    "        return 'Unknown'  # For aldersgrupper som ikke passer inn i de definerte kategoriene\n",
    "\n",
    "df2['Age_Category_Ages'] = df2['Ages'].apply(categorize_age_group)\n",
    "df2['Age_Category'] = df2['Theme'].apply(categorize_age_from_theme)"
   ]
  },
  {
   "cell_type": "markdown",
   "id": "4a78dbed-8cd3-4d2c-9c1a-81126d49c95c",
   "metadata": {},
   "source": [
    "### Mer eller mindre relevante kodesnutter"
   ]
  },
  {
   "cell_type": "code",
   "execution_count": null,
   "id": "b7277ac7-b3e9-41f8-91d0-3398955ed196",
   "metadata": {},
   "outputs": [],
   "source": [
    "print(df2.mean(numeric_only = True))"
   ]
  },
  {
   "cell_type": "code",
   "execution_count": null,
   "id": "fdbb41c9-8461-4c74-ad4c-f229be31b3d9",
   "metadata": {},
   "outputs": [],
   "source": [
    "print(df2['Theme'].value_counts())\n",
    "# print(df2['Age_Category'].value_counts())"
   ]
  },
  {
   "cell_type": "code",
   "execution_count": null,
   "id": "26386ad4",
   "metadata": {},
   "outputs": [],
   "source": [
    "print(df2['Theme'].unique())"
   ]
  },
  {
   "cell_type": "code",
   "execution_count": null,
   "id": "305f61df-482b-4632-aedc-c1155c13c71e",
   "metadata": {},
   "outputs": [],
   "source": [
    "plt.hist(df2['Price'], bins=20, color='skyblue', edgecolor='black')\n",
    "plt.xlabel('Pris i dollar [$]')\n",
    "plt.ylabel('')\n",
    "plt.gca().set_aspect(1)\n",
    "plt.show()"
   ]
  },
  {
   "cell_type": "code",
   "execution_count": null,
   "id": "22ccd432",
   "metadata": {},
   "outputs": [],
   "source": [
    "Theme_order = df2['Theme'].value_counts().index\n",
    "\n",
    "# Set a larger figure size\n",
    "plt.figure(figsize=(15, 7))\n",
    "\n",
    "# Assuming df is your DataFrame with the 'Ages' column\n",
    "sns.countplot(data=df2, x='Theme', order=Theme_order)\n",
    "\n",
    "# Rotate x-axis labels for better readability\n",
    "plt.xticks(rotation=70)  # You can adjust the angle as needed\n",
    "\n",
    "# Make x-axis label box taller to fit the rotated labels\n",
    "# plt.tight_layout()\n",
    "\n",
    "# Adjust plot aesthetics if needed\n",
    "plt.xlabel('Theme')\n",
    "plt.ylabel('Count')\n",
    "plt.title('Count of Lego sets per Theme')\n",
    "\n",
    "# Show the plot\n",
    "plt.show()"
   ]
  },
  {
   "cell_type": "code",
   "execution_count": null,
   "id": "04d79f61",
   "metadata": {},
   "outputs": [],
   "source": [
    "Age_Category_order = df2['Age_Category'].value_counts().index\n",
    "\n",
    "# Set a larger figure size\n",
    "plt.figure(figsize=(12, 6))\n",
    "\n",
    "# Assuming df is your DataFrame with the 'Ages' column\n",
    "sns.countplot(data=df2, x='Age_Category', order=Age_Category_order)\n",
    "\n",
    "# Rotate x-axis labels for better readability\n",
    "# plt.xticks(rotation=45)  # You can adjust the angle as needed\n",
    "\n",
    "# Adjust plot aesthetics if needed\n",
    "plt.xlabel('Age Categories')\n",
    "plt.ylabel('Count')\n",
    "plt.title('Count of Lego sets per Age Category')\n",
    "\n",
    "# Show the plot\n",
    "plt.show()"
   ]
  },
  {
   "cell_type": "code",
   "execution_count": null,
   "metadata": {},
   "outputs": [],
   "source": [
    "# Print all the Themes for each Age Category\n",
    "for age_category in df2['Age_Category'].unique():\n",
    "    print(age_category + ': ' + str(df2[df2['Age_Category'] == age_category]['Theme'].unique()))"
   ]
  },
  {
   "cell_type": "code",
   "execution_count": null,
   "id": "af31fc2d-1787-49cb-a6ca-73ef99d7f4d8",
   "metadata": {},
   "outputs": [],
   "source": [
    "plt.scatter(df2['Pieces'], df2['Price'])\n",
    "plt.xlabel('Antall brikker')\n",
    "plt.ylabel('Pris i dollar [$]')\n",
    "plt.gca().set_aspect(5)\n",
    "plt.show()"
   ]
  },
  {
   "cell_type": "code",
   "execution_count": null,
   "id": "22b5c0f2-00b0-40d9-9829-57065427c8ce",
   "metadata": {},
   "outputs": [],
   "source": [
    "# hva er det dyreste settet i datasettet mon tro?\n",
    "print(df2.loc[df2['Price'].idxmax()])"
   ]
  },
  {
   "cell_type": "code",
   "execution_count": null,
   "id": "d40850cf-b058-46df-b324-d69c6073f9bd",
   "metadata": {},
   "outputs": [],
   "source": [
    "# og hvilket har flest brikker?\n",
    "print(df2.loc[df2['Pieces'].idxmax()])"
   ]
  },
  {
   "cell_type": "code",
   "execution_count": null,
   "id": "279981a0-b865-44ba-b942-ae78f05ec966",
   "metadata": {},
   "outputs": [],
   "source": [
    "# hvilke tema har de billigste settene?\n",
    "df2.groupby('Theme')['Price'].mean().sort_values(ascending=False)#[:3]"
   ]
  },
  {
   "cell_type": "code",
   "execution_count": null,
   "metadata": {},
   "outputs": [],
   "source": [
    "result = df2.groupby('Age_Category')['Ages'].value_counts().rename('count').reset_index()\n",
    "\n",
    "filtered_result = result[result['count'] > 1].sort_values(by=['Age_Category', 'count'], ascending=[True, False])\n",
    "\n",
    "print(filtered_result)"
   ]
  },
  {
   "cell_type": "code",
   "execution_count": null,
   "id": "3a1895ad-c879-49f1-8acc-1a9494005a18",
   "metadata": {},
   "outputs": [],
   "source": [
    "# hvilke tema har flest brikker?\n",
    "Age_Pieces = df2.groupby('Age_Category')['Pieces'].mean().sort_values(ascending=False)#[:5]\n",
    "\n",
    "print('Average number of pieces per Age Category')\n",
    "print()\n",
    "print(Age_Pieces.reset_index().to_string(index=False, col_space=15))"
   ]
  },
  {
   "cell_type": "code",
   "execution_count": null,
   "id": "8af9be86",
   "metadata": {},
   "outputs": [],
   "source": [
    "# Print the prices and Age_Category in a list with headers\n",
    "Age_Price = df2.groupby('Age_Category')['Price'].mean().sort_values(ascending=False)\n",
    "\n",
    "print('Average price per Age_Category:')\n",
    "print()\n",
    "print(Age_Price.reset_index().to_string(index=False, col_space=15))"
   ]
  },
  {
   "cell_type": "code",
   "execution_count": null,
   "id": "ebb43c7d",
   "metadata": {},
   "outputs": [],
   "source": [
    "Age_UniquePieces = df2.groupby('Age_Category')['Unique_Pieces'].mean().sort_values(ascending=False)\n",
    "\n",
    "print('Average number of unique pieces per Age_Category:')\n",
    "print()\n",
    "print(Age_UniquePieces.reset_index().to_string(index=False, col_space=15))"
   ]
  },
  {
   "cell_type": "code",
   "execution_count": null,
   "id": "146ed1b1",
   "metadata": {},
   "outputs": [],
   "source": [
    "Age_Minifigures = df2.groupby('Age_Category')['Minifigures'].mean().sort_values(ascending=False)\n",
    "\n",
    "print('Average number of minifigures per Age_Category:')\n",
    "print()\n",
    "print(Age_Minifigures.reset_index().to_string(index=False, col_space=15))"
   ]
  },
  {
   "cell_type": "code",
   "execution_count": null,
   "id": "775b5a8e",
   "metadata": {},
   "outputs": [],
   "source": [
    "Age_Pages = df2.groupby('Age_Category')['Pages'].mean().sort_values(ascending=False)\n",
    "\n",
    "print('Average number of pages per Age_Category:')\n",
    "print()\n",
    "print(Age_Pages.reset_index().to_string(index=False, col_space=15))"
   ]
  },
  {
   "cell_type": "code",
   "execution_count": null,
   "metadata": {},
   "outputs": [],
   "source": [
    "# Selecting columns for correlation\n",
    "columns_of_interest = ['Price', 'Pieces', 'Unique_Pieces', 'Minifigures', 'Pages']\n",
    "\n",
    "# Creating a subset of the DataFrame with selected columns\n",
    "subset_df = df2[columns_of_interest]\n",
    "\n",
    "# Calculating the correlation matrix\n",
    "correlation_matrix = subset_df.corr()\n",
    "\n",
    "# Displaying the correlation matrix\n",
    "print(correlation_matrix)\n",
    "\n",
    "# Visualizing the correlation matrix using a heatmap\n",
    "display(correlation_matrix.style.background_gradient(cmap = 'coolwarm', axis = None, vmin = -1, vmax = 1))\n",
    "plt.show()"
   ]
  },
  {
   "cell_type": "code",
   "execution_count": null,
   "metadata": {},
   "outputs": [],
   "source": [
    "# Selecting columns for correlation\n",
    "columns_of_interest = ['Price', 'Pieces', 'Unique_Pieces', 'Pages', 'Minifigures', 'Age_Category']\n",
    "\n",
    "# Creating a subset of the DataFrame with selected columns\n",
    "subset_df = df2[columns_of_interest]\n",
    "\n",
    "# Creating dummy variables for 'Age_Category'\n",
    "dummy_age_category = pd.get_dummies(subset_df['Age_Category'], prefix='Age_Category')\n",
    "\n",
    "# Concatenating dummy variables with the original DataFrame\n",
    "subset_df = pd.concat([subset_df, dummy_age_category], axis=1)\n",
    "\n",
    "# Dropping the original 'Age_Category' column as it's no longer needed\n",
    "subset_df = subset_df.drop('Age_Category', axis=1)\n",
    "\n",
    "# Calculating the correlation matrix\n",
    "correlation_matrix = subset_df.corr()\n",
    "\n",
    "# Displaying the correlation matrix with a background gradient\n",
    "display(correlation_matrix.style.background_gradient(cmap='coolwarm', axis=None, vmin=-1, vmax=1))\n",
    "plt.show()"
   ]
  },
  {
   "cell_type": "code",
   "execution_count": null,
   "metadata": {},
   "outputs": [],
   "source": [
    "# Selecting columns for correlation\n",
    "columns_of_interest = ['Price', 'Pieces', 'Unique_Pieces', 'Pages', 'Minifigures', 'Age_Category_Ages']\n",
    "\n",
    "# Creating a subset of the DataFrame with selected columns\n",
    "subset_df = df2[columns_of_interest]\n",
    "\n",
    "# Creating dummy variables for 'Age_Category'\n",
    "dummy_age_category = pd.get_dummies(subset_df['Age_Category_Ages'], prefix='Age_Category')\n",
    "\n",
    "# Concatenating dummy variables with the original DataFrame\n",
    "subset_df = pd.concat([subset_df, dummy_age_category], axis=1)\n",
    "\n",
    "# Dropping the original 'Age_Category' column as it's no longer needed\n",
    "subset_df = subset_df.drop('Age_Category_Ages', axis=1)\n",
    "\n",
    "# Calculating the correlation matrix\n",
    "correlation_matrix = subset_df.corr()\n",
    "\n",
    "# Displaying the correlation matrix with a background gradient\n",
    "display(correlation_matrix.style.background_gradient(cmap='coolwarm', axis=None, vmin=-1, vmax=1))\n",
    "plt.show()"
   ]
  },
  {
   "cell_type": "code",
   "execution_count": null,
   "id": "2745c858-605e-4381-a91d-cd60a08ef14f",
   "metadata": {},
   "outputs": [],
   "source": [
    "sns.pairplot(df2, vars = ['Price', 'Pieces', 'Unique_Pieces', 'Pages', 'Minifigures'],\n",
    "             hue = 'Age_Category', \n",
    "             diag_kind = 'kde',\n",
    "             plot_kws = dict(alpha = 0.4))\n",
    "plt.show()"
   ]
  },
  {
   "cell_type": "code",
   "execution_count": null,
   "id": "25508f8d-3af0-422d-bd9c-1bde5ab698db",
   "metadata": {},
   "outputs": [],
   "source": [
    "df4 = df2[['Price', 'Pieces', 'Unique_Pieces', 'Pages', 'Minifigures', 'Age_Category']]\n",
    "\n",
    "# Remove all rows with Age_Category = 'Uvisst' or 'Unknown'\n",
    "df4 = df4[df4['Age_Category'] != 'Uvisst']\n",
    "df4 = df4[df4['Age_Category'] != 'Unknown']\n",
    "df4 = pd.get_dummies(df4, prefix = 'Age_Category', columns = ['Age_Category'])\n",
    "\n",
    "# enkel lineær regresjon\n",
    "formel = 'Price ~ Pieces + Unique_Pieces + Pages + Minifigures + Age_Category_Skolebarn + Age_Category_Småbarn + Age_Category_Eldre'\n",
    "\n",
    "modell = smf.ols(formel, data = df4)\n",
    "resultat = modell.fit()\n",
    "\n",
    "resultat.summary()"
   ]
  },
  {
   "cell_type": "code",
   "execution_count": null,
   "metadata": {},
   "outputs": [],
   "source": [
    "df4 = df2[['Price', 'Pieces', 'Unique_Pieces', 'Pages', 'Minifigures', 'Age_Category']]\n",
    "\n",
    "# Remove all rows with Age_Category = 'Uvisst' or 'Unknown'\n",
    "df4 = df4[df4['Age_Category'] != 'Uvisst']\n",
    "df4 = df4[df4['Age_Category'] != 'Unknown']\n",
    "\n",
    "# Convert Age_Category to numerical values for regression analysis\n",
    "df4['Age_Category_Num'] = df4['Age_Category'].map({'Småbarn': 1, 'Skolebarn': 2, 'Eldre': 3})\n",
    "\n",
    "# Fit the regression model using OLS\n",
    "X = sm.add_constant(df4[['Age_Category_Num']])\n",
    "y = df4['Price']\n",
    "model = sm.OLS(y, X).fit()\n",
    "\n",
    "# Print the regression summary\n",
    "print(model.summary())"
   ]
  },
  {
   "cell_type": "code",
   "execution_count": null,
   "metadata": {},
   "outputs": [],
   "source": [
    "df4 = df2[['Price', 'Pieces', 'Unique_Pieces', 'Pages', 'Minifigures', 'Age_Category_Ages']]\n",
    "\n",
    "# Remove all rows with Age_Category = 'Uvisst' or 'Unknown'\n",
    "df4 = df4[df4['Age_Category_Ages'] != 'Uvisst']\n",
    "df4 = df4[df4['Age_Category_Ages'] != 'Unknown']\n",
    "\n",
    "df4 = pd.get_dummies(df4, prefix = 'Age_Category', columns = ['Age_Category_Ages'])\n",
    "\n",
    "# enkel lineær regresjon\n",
    "formel = 'Price ~ Pieces + Unique_Pieces + Pages + Minifigures + Age_Category_Skolebarn + Age_Category_Småbarn + Age_Category_Eldre + Age_Category_Eldre_skolebarn'\n",
    "\n",
    "modell = smf.ols(formel, data = df4)\n",
    "resultat = modell.fit()\n",
    "\n",
    "resultat.summary()"
   ]
  },
  {
   "cell_type": "code",
   "execution_count": null,
   "id": "1070f251-dbcc-4eef-bf0d-b3ba2485a548",
   "metadata": {},
   "outputs": [],
   "source": [
    "slope = resultat.params['Pieces']\n",
    "intercept = resultat.params['Intercept']\n",
    "\n",
    "regression_x = np.array(df2['Pieces'])\n",
    "\n",
    "regression_y = slope * regression_x + intercept\n",
    "\n",
    "plt.scatter(df2['Pieces'], df2['Price'], label='Data Points')\n",
    "plt.plot(regression_x, regression_y, color='red', label='Regression Line')\n",
    "plt.xlabel('Antall brikker')\n",
    "plt.ylabel('Pris [$]')\n",
    "plt.title('Kryssplott med regresjonslinje (enkel LR)')\n",
    "plt.legend()\n",
    "plt.grid()\n",
    "plt.show()"
   ]
  },
  {
   "cell_type": "code",
   "execution_count": null,
   "id": "70323c17-289b-4322-a086-f22b0b4ac188",
   "metadata": {},
   "outputs": [],
   "source": [
    "figure, axis = plt.subplots(1, 2, figsize = (15, 5))\n",
    "sns.scatterplot(x = resultat.fittedvalues, y = resultat.resid, ax = axis[0])\n",
    "axis[0].set_ylabel(\"Residual\")\n",
    "axis[0].set_xlabel(\"Predikert verdi\")\n",
    "\n",
    "sm.qqplot(resultat.resid, line = '45', fit = True, ax = axis[1])\n",
    "axis[1].set_ylabel(\"Kvantiler i residualene\")\n",
    "axis[1].set_xlabel(\"Kvantiler i normalfordelingen\")\n",
    "plt.show()"
   ]
  },
  {
   "cell_type": "code",
   "execution_count": null,
   "id": "f3b4e53e-487f-48a9-a52a-bad8e40f4358",
   "metadata": {},
   "outputs": [],
   "source": [
    "# mythemes = ['Star Wars', 'NINJAGO', 'Harry Potter']\n",
    "# subset_df = df2[df2['Theme'].isin(mythemes)]\n",
    "subset_df = df2\n",
    "sns.pairplot(subset_df, vars = ['Price', 'Pieces', 'Pages', 'Minifigures', 'Unique_Pieces'],\n",
    "             hue = 'Age_Category', \n",
    "             diag_kind = 'kde',\n",
    "             plot_kws = dict(alpha = 0.4))\n",
    "plt.show()"
   ]
  },
  {
   "cell_type": "code",
   "execution_count": null,
   "id": "b15426d8-5785-4fe6-9058-8efed012385f",
   "metadata": {},
   "outputs": [],
   "source": [
    "# enkel lineær regresjon, tar ikke hensyn til tema\n",
    "res_sub = smf.ols('Price ~ Pieces' , data = subset_df).fit()"
   ]
  },
  {
   "cell_type": "code",
   "execution_count": null,
   "id": "c716f5a1-2394-437a-875a-aaa0564481ef",
   "metadata": {},
   "outputs": [],
   "source": [
    "# enkel LR for hvert tema hver for seg\n",
    "resultater = []\n",
    "ageCategories = subset_df['Age_Category'].unique()\n",
    "for i, ageCategory in enumerate(ageCategories):\n",
    "    modell3 = smf.ols('Price ~ Pieces' , data = subset_df[subset_df['Age_Category'].isin([ageCategory])])\n",
    "    resultater.append(modell3.fit())"
   ]
  },
  {
   "cell_type": "code",
   "execution_count": null,
   "id": "e243b26f-1e71-497a-bc8f-00ca575187f4",
   "metadata": {},
   "outputs": [],
   "source": [
    "# plott av dataene og regresjonslinjene\n",
    "for i, ageCategory in enumerate(ageCategories):\n",
    "    slope = resultater[i].params['Pieces']\n",
    "    intercept = resultater[i].params['Intercept']\n",
    "\n",
    "    regression_x = np.array(subset_df[subset_df['Age_Category'].isin([ageCategory])]['Pieces'])\n",
    "    regression_y = slope * regression_x + intercept\n",
    "\n",
    "    # Plot scatter plot and regression line\n",
    "    plt.scatter(subset_df[subset_df['Age_Category'].isin([ageCategory])]['Pieces'], subset_df[subset_df['Age_Category'].isin([ageCategory])]['Price'], color=plt.cm.tab10(i))\n",
    "    plt.plot(regression_x, regression_y, color=plt.cm.tab10(i), label=ageCategory)\n",
    "    \n",
    "plt.xlabel('Antall brikker')\n",
    "plt.ylabel('Pris')\n",
    "plt.title('Kryssplott med regresjonslinjer')\n",
    "plt.legend()\n",
    "plt.grid()\n",
    "plt.show()"
   ]
  },
  {
   "cell_type": "code",
   "execution_count": null,
   "id": "d74837c8",
   "metadata": {},
   "outputs": [],
   "source": [
    "print(df2['Age_Category'].unique())"
   ]
  },
  {
   "cell_type": "code",
   "execution_count": null,
   "id": "5c77f259",
   "metadata": {},
   "outputs": [],
   "source": [
    "# Konverter Age_Category til dummy-variabler\n",
    "df3 = df2.copy()\n",
    "df3['Age_Category'].fillna('missing', inplace=True)\n",
    "df3 = pd.get_dummies(df3, columns=['Age_Category'], drop_first=True)\n",
    "\n",
    "# Velg forklaringsvariabler og responsvariabel\n",
    "X = df3.drop(['Price', 'Set_Name', 'Theme', 'Unique_Pieces', 'Pages', 'Minifigures', 'Ages', 'Pieces'], axis=1)\n",
    "y = df3['Price']\n",
    "\n",
    "# Print data types of X for verification\n",
    "print(X.dtypes)\n",
    "print(y.dtypes)\n",
    "print(X.value_counts())\n",
    "\n",
    "columns_to_fill = ['Age_Category_Older_Children', 'Age_Category_Teenagers_and_Adults', 'Age_Category_Toddler', 'Age_Category_Young_Children']\n",
    "\n",
    "# Fill missing values with 0 for the specified columns\n",
    "df3[columns_to_fill] = df3[columns_to_fill].fillna(0)\n",
    "\n",
    "df3[columns_to_fill] = df3[columns_to_fill].replace('', False)\n",
    "df3[columns_to_fill] = df3[columns_to_fill].fillna(False)\n",
    "\n",
    "for column in columns_to_fill:\n",
    "    df[df[column] != True]\n",
    "    if (df3[column].any()):\n",
    "        print(column, df3[column].unique())\n",
    "\n",
    "# Legg til en konstant til X (nødvendig for statsmodels)\n",
    "X = sm.add_constant(X)\n",
    "\n",
    "# Opprett og tilpasse modellen\n",
    "model = sm.OLS(y, X).fit()\n",
    "\n",
    "# Print ut en oppsummering av modellen\n",
    "print(model.summary())\n"
   ]
  },
  {
   "cell_type": "code",
   "execution_count": null,
   "id": "49d534ed-af6a-473b-8e53-aa7970058585",
   "metadata": {},
   "outputs": [],
   "source": [
    "# multippel lineær regresjon\n",
    "modell3_mlr = smf.ols('Price ~ Pieces + Theme' , data = subset_df)\n",
    "modell3_mlr.fit().summary()"
   ]
  },
  {
   "cell_type": "code",
   "execution_count": null,
   "id": "2ef89cc9-011a-4c4c-b2e6-8a062c47ccea",
   "metadata": {},
   "outputs": [],
   "source": [
    "# multippel lineær regresjon med en annen referansekategori\n",
    "modell3_mlr_alt = smf.ols('Price ~ Pieces + C(Theme, Treatment(\"Star Wars\"))' , data = subset_df)\n",
    "modell3_mlr_alt.fit().summary()"
   ]
  },
  {
   "cell_type": "code",
   "execution_count": null,
   "id": "cec66e98-e93b-4970-b6e8-b9d0abf233ea",
   "metadata": {},
   "outputs": [],
   "source": [
    "# plott\n",
    "intercept = [modell3_mlr.fit().params['Theme[T.Star Wars]'], modell3_mlr.fit().params['Theme[T.NINJAGO]'], 0] + modell3_mlr.fit().params['Intercept']\n",
    "slope = modell3_mlr.fit().params['Pieces']\n",
    "\n",
    "for i, theme in enumerate(mythemes):\n",
    "\n",
    "    regression_x = np.array(subset_df[subset_df['Theme'].isin([theme])]['Pieces'])\n",
    "    regression_y = slope * regression_x + intercept[i]\n",
    "\n",
    "    # Plot scatter plot and regression line\n",
    "    plt.scatter(subset_df[subset_df['Theme'].isin([theme])]['Pieces'], subset_df[subset_df['Theme'].isin([theme])]['Price'], color = plt.cm.tab10(i))\n",
    "    plt.plot(regression_x, regression_y, color=plt.cm.tab10(i), label=theme)\n",
    "    \n",
    "# uten tema som forklaringsvariabel:\n",
    "regression_x = np.array(subset_df['Pieces'])\n",
    "regression_y = res_sub.params['Pieces'] * regression_x + res_sub.params['Intercept']\n",
    "plt.plot(regression_x, regression_y, color='black', label = 'No theme')\n",
    "    \n",
    "plt.xlabel('Antall brikker')\n",
    "plt.ylabel('Pris')\n",
    "plt.title('Kryssplott med regresjonslinjer')\n",
    "plt.legend()\n",
    "plt.grid()\n",
    "plt.show()"
   ]
  },
  {
   "cell_type": "code",
   "execution_count": null,
   "id": "81290810-1694-426e-8520-e05bac625763",
   "metadata": {},
   "outputs": [],
   "source": [
    "# med interaksjonsledd mellom antall brikker og tema\n",
    "modell3_mlri = smf.ols('Price ~ Pieces*Theme' , data = subset_df)\n",
    "modell3_mlri.fit().summary()"
   ]
  },
  {
   "cell_type": "code",
   "execution_count": null,
   "id": "ab55e4bb-7630-4db3-a90e-718f57b8eaed",
   "metadata": {},
   "outputs": [],
   "source": [
    "# plott\n",
    "intercept = [modell3_mlri.fit().params['Theme[T.Star Wars]'], modell3_mlri.fit().params['Theme[T.NINJAGO]'], 0] + modell3_mlri.fit().params['Intercept']\n",
    "slope = [modell3_mlri.fit().params['Pieces:Theme[T.Star Wars]'], modell3_mlri.fit().params['Pieces:Theme[T.NINJAGO]'], 0] + modell3_mlri.fit().params['Pieces']\n",
    "\n",
    "for i, theme in enumerate(mythemes):\n",
    "\n",
    "    regression_x = np.array(subset_df[subset_df['Theme'].isin([theme])]['Pieces'])\n",
    "    regression_y = slope[i] * regression_x + intercept[i]\n",
    "\n",
    "    # Plot scatter plot and regression line\n",
    "    plt.scatter(subset_df[subset_df['Theme'].isin([theme])]['Pieces'], subset_df[subset_df['Theme'].isin([theme])]['Price'], color=plt.cm.tab10(i))\n",
    "    plt.plot(regression_x, regression_y, color=plt.cm.tab10(i), label=theme)\n",
    "    \n",
    "# uten tema som forklaringsvariabel:\n",
    "regression_x = np.array(subset_df['Pieces'])\n",
    "regression_y = res_sub.params['Pieces'] * regression_x + res_sub.params['Intercept']\n",
    "plt.plot(regression_x, regression_y, color='black', label='Theme unaccounted for')\n",
    "    \n",
    "plt.xlabel('Antall brikker')\n",
    "plt.ylabel('Pris [$]')\n",
    "plt.title('Kryssplott med regresjonslinjer')\n",
    "plt.legend()\n",
    "plt.grid()\n",
    "plt.show()"
   ]
  },
  {
   "cell_type": "code",
   "execution_count": null,
   "id": "a31d7edd-dc4b-4357-9684-34ad078db2e7",
   "metadata": {},
   "outputs": [],
   "source": [
    "# Kode for å lagre plot som (.png)\n",
    "## fjern 'plt.show()' og erstatt med:\n",
    "# plt.savefig('my_plot.png')"
   ]
  },
  {
   "cell_type": "code",
   "execution_count": null,
   "id": "a4e71738-bb4b-4370-9dfa-12208feef41c",
   "metadata": {},
   "outputs": [],
   "source": [
    "# Steg 5: Evaluere om modellen passer til dataene\n",
    "# Plotte predikert verdi mot residual\n",
    "figure, axis = plt.subplots(1, 2, figsize = (15, 5))\n",
    "sns.scatterplot(x = modell3_mlri.fit().fittedvalues, y = modell3_mlri.fit().resid, ax = axis[0])\n",
    "axis[0].set_ylabel(\"Residual\")\n",
    "axis[0].set_xlabel(\"Predikert verdi\")\n",
    "\n",
    "# Lage kvantil-kvantil-plott for residualene\n",
    "sm.qqplot(modell3_mlri.fit().resid, line = '45', fit = True, ax = axis[1])\n",
    "axis[1].set_ylabel(\"Kvantiler i residualene\")\n",
    "axis[1].set_xlabel(\"Kvantiler i normalfordelingen\")\n",
    "plt.show()"
   ]
  },
  {
   "cell_type": "code",
   "execution_count": null,
   "id": "be8e578c-bad1-4a97-bbcc-ecb7471d8be7",
   "metadata": {},
   "outputs": [],
   "source": [
    "# Gruppere temaer i nye grupper:\n",
    "# (Harry Potter, NINJAGO og Star Wars havner i én gruppe, City og Friends i en annen, og alle andre i en tredje)\n",
    "df2['cat'] = np.where(df2['Theme'].isin(['Harry Potter', 'NINJAGO', 'Star Wars']), 'Cat1', \n",
    "                      np.where(df2['Theme'].isin(['City', 'Friends']), 'Cat2', 'Cat3'))\n",
    "df2.groupby(['cat']).size().reset_index(name = 'Count')"
   ]
  },
  {
   "cell_type": "code",
   "execution_count": null,
   "id": "7aea77d8-754c-49b9-b622-06dd3c65ba87",
   "metadata": {},
   "outputs": [],
   "source": [
    "df2.groupby(['cat', 'Theme']).size().reset_index(name = 'Count')\n"
   ]
  },
  {
   "cell_type": "code",
   "execution_count": null,
   "outputs": [],
   "source": [
    "# Importing necessary libraries\n",
    "import pandas as pd\n",
    "from sklearn.linear_model import LinearRegression\n",
    "\n",
    "# Path to the dataset\n",
    "file_population_path = '/Data/lego.population.csv'\n",
    "\n",
    "# Reading the dataset with ISO-8859-1 encoding\n",
    "lego_population = pd.read_csv(file_population_path, encoding='ISO-8859-1')\n",
    "\n",
    "# Converting the Price column to numeric, removing any non-numeric characters\n",
    "lego_population['Price'] = pd.to_numeric(lego_population['Price'].replace('[\\$,]', '', regex=True), errors='coerce')\n",
    "\n",
    "# Defining the age categories based on themes\n",
    "age_categories = {\n",
    "    'Skolebarn': ['Friends', 'City', 'Unikitty', 'NINJAGO', 'Minecraft', 'Batman',\n",
    "                  'THE LEGO MOVIE 2', 'Speed Champions', 'Harry Potter', 'Hidden Side',\n",
    "                  'LEGO Frozen 2', 'Trolls World Tour', 'Minions', 'Powerpuff Girls',\n",
    "                  'Jurassic World', 'Overwatch', 'Spider-Man', 'Creator 3-in-1', 'Monkie Kid',\n",
    "                  'Powered UP'],\n",
    "    'Uvisst': ['Disney', 'Minifigures'],\n",
    "    'Småbarn': ['DUPLO', 'Classic', 'Juniors'],\n",
    "    'Eldre': ['Star Wars', 'Marvel', 'DC', 'Ideas', 'Creator Expert', 'Stranger Things']\n",
    "}\n",
    "\n",
    "# Assigning age categories to the LEGO sets in the dataset\n",
    "lego_population['Age_Category'] = lego_population['Theme'].apply(lambda theme: next((category for category, themes in age_categories.items() if theme in themes), 'Unknown'))\n",
    "\n",
    "# Preparing dataset for regression analysis, including age categories\n",
    "regression_dataset_with_age = lego_population[['Price', 'Pages', 'Pieces', 'Unique_Pieces', 'Minifigures', 'Age_Category']].dropna()\n",
    "\n",
    "# One-hot encoding for age categories\n",
    "regression_dataset_with_age = pd.get_dummies(regression_dataset_with_age, columns=['Age_Category'], drop_first=True)\n",
    "\n",
    "# Defining the dependent variable (y) and independent variables (X) including age categories\n",
    "y_with_age = regression_dataset_with_age['Price']\n",
    "X_with_age = regression_dataset_with_age.drop('Price', axis=1)\n",
    "\n",
    "# Creating the Linear Regression model\n",
    "model_with_age = LinearRegression()\n",
    "\n",
    "# Fitting the model with the dataset\n",
    "model_with_age.fit(X_with_age, y_with_age)\n",
    "\n",
    "# Getting the coefficients and intercept of the model\n",
    "coefficients_with_age = model_with_age.coef_\n",
    "intercept_with_age = model_with_age.intercept_\n",
    "\n",
    "# Creating a dictionary to map the coefficients to their corresponding variables\n",
    "variable_names = X_with_age.columns.tolist()\n",
    "coefficients_dict = dict(zip(variable_names, coefficients_with_age))\n",
    "\n",
    "# Adding the intercept to the dictionary\n",
    "coefficients_dict['Intercept'] = intercept_with_age\n",
    "\n",
    "# Displaying the detailed results\n",
    "coefficients_dict\n"
   ],
   "metadata": {
    "collapsed": false
   }
  }
 ],
 "metadata": {
  "kernelspec": {
   "display_name": "Python 3",
   "language": "python",
   "name": "python3"
  },
  "language_info": {
   "codemirror_mode": {
    "name": "ipython",
    "version": 3
   },
   "file_extension": ".py",
   "mimetype": "text/x-python",
   "name": "python",
   "nbconvert_exporter": "python",
   "pygments_lexer": "ipython3",
   "version": "3.11.5"
  }
 },
 "nbformat": 4,
 "nbformat_minor": 5
}
